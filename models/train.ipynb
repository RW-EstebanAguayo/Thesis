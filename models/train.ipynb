{
 "cells": [
  {
   "cell_type": "code",
   "execution_count": 2,
   "metadata": {},
   "outputs": [
    {
     "name": "stdout",
     "output_type": "stream",
     "text": [
      "Collecting tifffile\n",
      "  Downloading tifffile-2023.9.26-py3-none-any.whl (222 kB)\n",
      "                                              0.0/222.9 kB ? eta -:--:--\n",
      "     -----------------------------          174.1/222.9 kB 5.3 MB/s eta 0:00:01\n",
      "     -------------------------------------- 222.9/222.9 kB 3.4 MB/s eta 0:00:00\n",
      "Requirement already satisfied: numpy in c:\\users\\estal\\appdata\\local\\anaconda3\\envs\\imagep\\lib\\site-packages (from tifffile) (1.24.3)\n",
      "Installing collected packages: tifffile\n",
      "Successfully installed tifffile-2023.9.26\n"
     ]
    }
   ],
   "source": [
    "!pip install tifffile"
   ]
  },
  {
   "cell_type": "code",
   "execution_count": 3,
   "metadata": {},
   "outputs": [],
   "source": [
    "import torch\n",
    "from torch.utils.data import Dataset, DataLoader\n",
    "from torchvision import transforms\n",
    "from PIL import Image\n",
    "import tifffile\n",
    "import numpy as np\n",
    "import os\n",
    "import glob\n",
    "import matplotlib.pyplot as plt\n",
    "import torchvision.transforms as transforms\n",
    "# from flowlib import flow_to_color, floread"
   ]
  },
  {
   "cell_type": "code",
   "execution_count": 54,
   "metadata": {},
   "outputs": [],
   "source": [
    "class FlowDataset(Dataset):\n",
    "    def __init__(self, root_dir, transform=None):\n",
    "        \"\"\"\n",
    "        Args:\n",
    "            root_dir (string): Directory with all the images and flow files.\n",
    "            transform (callable, optional): Optional transform to be applied on a sample.\n",
    "        \"\"\"\n",
    "        self.root_dir = root_dir\n",
    "        self.transform = transform\n",
    "        self.subfolders = os.listdir(root_dir)\n",
    "\n",
    "    def __len__(self):\n",
    "        return sum(len(glob.glob(os.path.join(os.path.join(self.root_dir, subfolder), '*.tif')))//2 for subfolder in self.subfolders)\n",
    "\n",
    "    def __getitem__(self, idx):\n",
    "        # Find the right subfolder\n",
    "        subfolder = None\n",
    "\n",
    "        for folder in self.subfolders:\n",
    "            num_images = len(glob.glob(os.path.join(os.path.join(self.root_dir, folder), '*.flo')))\n",
    "            print(f\"folder: {folder}, number of images {num_images}\")\n",
    "            if idx < num_images:\n",
    "                subfolder = folder\n",
    "                break\n",
    "            idx -= num_images\n",
    "        \n",
    "        if subfolder is None:\n",
    "            raise IndexError\n",
    "        \n",
    "        # Find the corresponding image and flow file\n",
    "        image_files = sorted(glob.glob(os.path.join(os.path.join(self.root_dir,subfolder), '*.tif')))\n",
    "        flow_files = sorted(glob.glob(os.path.join(os.path.join(self.root_dir,subfolder), '*.flo')))\n",
    "\n",
    "        image_1_path = image_files[2*idx].replace(\"\\\\\", \"/\")\n",
    "        image_2_path = image_files[2*idx+1].replace(\"\\\\\", \"/\")\n",
    "\n",
    "        flow_path = flow_files[idx]\n",
    "\n",
    "        image1 = tifffile.imread(image_1_path)\n",
    "        image2 = tifffile.imread(image_2_path)\n",
    "\n",
    "        flow = self.load_flo_file(flow_path)\n",
    "\n",
    "        if self.transform:\n",
    "            image1 = self.transform(image1)\n",
    "            image2 = self.transform(image2)\n",
    "        \n",
    "        # # Stack images along the channel dimension\n",
    "        images = torch.cat((image1, image2), dim=0)\n",
    "\n",
    "        return images, flow\n",
    "\n",
    "    def load_flo_file(self, filename):\n",
    "        with open(filename, 'rb') as f:\n",
    "            magic = np.fromfile(f, np.float32, count=1)\n",
    "            if 202021.25 != magic:\n",
    "                print('Magic number incorrect. Invalid .flo file')\n",
    "            else:\n",
    "                w = np.fromfile(f, np.int32, count=1)[0]\n",
    "                h = np.fromfile(f, np.int32, count=1)[0]\n",
    "                #print('Reading %d x %d flo file' % (w, h))\n",
    "                data = np.fromfile(f, np.float32, count=2*w*h)\n",
    "                # Reshape data into 3D array (columns, rows, bands)\n",
    "                data2D = np.resize(data, (h, w, 2))\n",
    "                return torch.from_numpy(data2D)\n",
    "            \n",
    "# Set up the transformations (you might want to adjust these)\n",
    "transform = transforms.Compose([\n",
    "    transforms.ToTensor(),\n",
    "])"
   ]
  },
  {
   "cell_type": "code",
   "execution_count": 55,
   "metadata": {},
   "outputs": [
    {
     "name": "stdout",
     "output_type": "stream",
     "text": [
      "success!\n"
     ]
    }
   ],
   "source": [
    "dataset = FlowDataset(root_dir='C:/Users/estal/OneDrive - ROCKWOOL Group/Documents/GD/Thesis/04_Code/src/data/raw/PIV_dataset/PIV-genImages/data', transform=transform)\n",
    "dataloader = DataLoader(dataset, batch_size=4, shuffle=True)#, num_workers=-1)\n",
    "\n",
    "print(\"success!\")"
   ]
  },
  {
   "cell_type": "code",
   "execution_count": 57,
   "metadata": {},
   "outputs": [
    {
     "name": "stdout",
     "output_type": "stream",
     "text": [
      "folder: backstep, number of images 3200\n",
      "folder: cylinder, number of images 2050\n",
      "folder: DNS_turbulence, number of images 2000\n"
     ]
    }
   ],
   "source": [
    "image_pair, flow = dataset[5300]"
   ]
  }
 ],
 "metadata": {
  "kernelspec": {
   "display_name": "thesis",
   "language": "python",
   "name": "python3"
  },
  "language_info": {
   "codemirror_mode": {
    "name": "ipython",
    "version": 3
   },
   "file_extension": ".py",
   "mimetype": "text/x-python",
   "name": "python",
   "nbconvert_exporter": "python",
   "pygments_lexer": "ipython3",
   "version": "3.9.16"
  },
  "orig_nbformat": 4
 },
 "nbformat": 4,
 "nbformat_minor": 2
}
