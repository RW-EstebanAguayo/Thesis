{
 "cells": [
  {
   "cell_type": "code",
   "execution_count": 1,
   "metadata": {},
   "outputs": [
    {
     "name": "stdout",
     "output_type": "stream",
     "text": [
      "Note: you may need to restart the kernel to use updated packages.\n"
     ]
    },
    {
     "name": "stderr",
     "output_type": "stream",
     "text": [
      "ERROR: Could not find a version that satisfies the requirement pdfminer.high_level (from versions: none)\n",
      "ERROR: No matching distribution found for pdfminer.high_level\n"
     ]
    }
   ],
   "source": [
    "pip install pdfminer.high_level"
   ]
  },
  {
   "cell_type": "code",
   "execution_count": 5,
   "metadata": {},
   "outputs": [
    {
     "ename": "ImportError",
     "evalue": "cannot import name 'extract_text' from 'pdfminer' (c:\\Users\\estal\\AppData\\Local\\anaconda3\\envs\\imageP\\envs\\thesis\\Lib\\site-packages\\pdfminer\\__init__.py)",
     "output_type": "error",
     "traceback": [
      "\u001b[1;31m---------------------------------------------------------------------------\u001b[0m",
      "\u001b[1;31mImportError\u001b[0m                               Traceback (most recent call last)",
      "\u001b[1;32mc:\\Users\\estal\\OneDrive - ROCKWOOL Group\\Documents\\GD\\Thesis\\04_Code\\src\\notebooks\\test.ipynb Cell 2\u001b[0m line \u001b[0;36m1\n\u001b[1;32m----> <a href='vscode-notebook-cell:/c%3A/Users/estal/OneDrive%20-%20ROCKWOOL%20Group/Documents/GD/Thesis/04_Code/src/notebooks/test.ipynb#W0sZmlsZQ%3D%3D?line=0'>1</a>\u001b[0m \u001b[39mfrom\u001b[39;00m \u001b[39mpdfminer\u001b[39;00m \u001b[39mimport\u001b[39;00m extract_text\n\u001b[0;32m      <a href='vscode-notebook-cell:/c%3A/Users/estal/OneDrive%20-%20ROCKWOOL%20Group/Documents/GD/Thesis/04_Code/src/notebooks/test.ipynb#W0sZmlsZQ%3D%3D?line=2'>3</a>\u001b[0m pdf_file_path \u001b[39m=\u001b[39m \u001b[39m'\u001b[39m\u001b[39mC:/Users/estal/OneDrive - ROCKWOOL Group/Documents/GD/Thesis/03_Papers/01_PIV/01_Baselines/02_02_PASTIS\u001b[39m\u001b[39m'\u001b[39m\n\u001b[0;32m      <a href='vscode-notebook-cell:/c%3A/Users/estal/OneDrive%20-%20ROCKWOOL%20Group/Documents/GD/Thesis/04_Code/src/notebooks/test.ipynb#W0sZmlsZQ%3D%3D?line=3'>4</a>\u001b[0m extracted_text \u001b[39m=\u001b[39m extract_text(pdf_file_path)\n",
      "\u001b[1;31mImportError\u001b[0m: cannot import name 'extract_text' from 'pdfminer' (c:\\Users\\estal\\AppData\\Local\\anaconda3\\envs\\imageP\\envs\\thesis\\Lib\\site-packages\\pdfminer\\__init__.py)"
     ]
    }
   ],
   "source": [
    "from pdfminer import extract_text\n",
    "\n",
    "pdf_file_path = 'C:/Users/estal/OneDrive - ROCKWOOL Group/Documents/GD/Thesis/03_Papers/01_PIV/01_Baselines/02_02_PASTIS'\n",
    "extracted_text = extract_text(pdf_file_path)\n",
    "\n",
    "print(extracted_text)"
   ]
  }
 ],
 "metadata": {
  "kernelspec": {
   "display_name": "thesis",
   "language": "python",
   "name": "python3"
  },
  "language_info": {
   "codemirror_mode": {
    "name": "ipython",
    "version": 3
   },
   "file_extension": ".py",
   "mimetype": "text/x-python",
   "name": "python",
   "nbconvert_exporter": "python",
   "pygments_lexer": "ipython3",
   "version": "3.11.5"
  },
  "orig_nbformat": 4
 },
 "nbformat": 4,
 "nbformat_minor": 2
}
